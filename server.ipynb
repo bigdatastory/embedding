{
 "cells": [
  {
   "cell_type": "code",
   "execution_count": 3,
   "metadata": {},
   "outputs": [
    {
     "ename": "ModuleNotFoundError",
     "evalue": "No module named 'hp_rank_w2v'",
     "output_type": "error",
     "traceback": [
      "\u001b[1;31m---------------------------------------------------------------------------\u001b[0m",
      "\u001b[1;31mModuleNotFoundError\u001b[0m                       Traceback (most recent call last)",
      "\u001b[1;32m<ipython-input-3-41a5967a5764>\u001b[0m in \u001b[0;36m<module>\u001b[1;34m\u001b[0m\n\u001b[0;32m      1\u001b[0m \u001b[1;32mfrom\u001b[0m \u001b[0mflask\u001b[0m \u001b[1;32mimport\u001b[0m \u001b[0mFlask\u001b[0m\u001b[1;33m,\u001b[0m \u001b[0mjsonify\u001b[0m\u001b[1;33m,\u001b[0m \u001b[0mrequest\u001b[0m\u001b[1;33m\u001b[0m\u001b[1;33m\u001b[0m\u001b[0m\n\u001b[1;32m----> 2\u001b[1;33m \u001b[1;32mfrom\u001b[0m \u001b[0mhp_rank_w2v\u001b[0m \u001b[1;32mimport\u001b[0m \u001b[0mhp_rank_output\u001b[0m \u001b[1;32mas\u001b[0m \u001b[0mget_bot_response\u001b[0m\u001b[1;33m\u001b[0m\u001b[1;33m\u001b[0m\u001b[0m\n\u001b[0m\u001b[0;32m      3\u001b[0m \u001b[1;33m\u001b[0m\u001b[0m\n\u001b[0;32m      4\u001b[0m \u001b[0mapp\u001b[0m \u001b[1;33m=\u001b[0m \u001b[0mFlask\u001b[0m\u001b[1;33m(\u001b[0m\u001b[0m__name__\u001b[0m\u001b[1;33m)\u001b[0m\u001b[1;33m\u001b[0m\u001b[1;33m\u001b[0m\u001b[0m\n\u001b[0;32m      5\u001b[0m \u001b[1;33m\u001b[0m\u001b[0m\n",
      "\u001b[1;31mModuleNotFoundError\u001b[0m: No module named 'hp_rank_w2v'"
     ]
    }
   ],
   "source": [
    "from flask import Flask, jsonify, request\n",
    "from hp_rank_w2v import hp_rank_output as get_bot_response\n",
    "\n",
    "app = Flask(__name__)\n",
    "\n",
    "@app.route('/keyboard')\n",
    "def Keyboard():\n",
    "    dataSend = {\n",
    "      \"user\" : \"has3ong\",\n",
    "      \"blog\" : \"github\",\n",
    "    }\n",
    "    return jsonify(dataSend)\n",
    "\n",
    "@app.route('/message', methods=['POST'])\n",
    "def Message():\n",
    "    content = request.get_json()\n",
    "    #content = content['userRequest']\n",
    "    #content = content['utterance']\n",
    "    content = content['action']\n",
    "    content = content['params']\n",
    "    content = content['user_symptom']\n",
    "    \n",
    "    \n",
    "    dataSend = {\n",
    "        \"version\": \"2.0\",\n",
    "        \"template\": {\n",
    "            \"outputs\": [\n",
    "                {\n",
    "                    \"carousel\": {\n",
    "                        \"type\" : \"basicCard\",\n",
    "                        \"items\": [\n",
    "                            {\n",
    "                                \"title\" : \"\",\n",
    "                                \"description\" : get_bot_response(content)\n",
    "                            }\n",
    "                        ]\n",
    "                    }\n",
    "                }\n",
    "            ]\n",
    "        }\n",
    "    }\n",
    "    return jsonify(dataSend)\n",
    "    \n",
    "if __name__ == \"__main__\":\n",
    "    app.run(host='0.0.0.0', port=5000)"
   ]
  }
 ],
 "metadata": {
  "kernelspec": {
   "display_name": "Python 3",
   "language": "python",
   "name": "python3"
  },
  "language_info": {
   "codemirror_mode": {
    "name": "ipython",
    "version": 3
   },
   "file_extension": ".py",
   "mimetype": "text/x-python",
   "name": "python",
   "nbconvert_exporter": "python",
   "pygments_lexer": "ipython3",
   "version": "3.8.3"
  }
 },
 "nbformat": 4,
 "nbformat_minor": 4
}
